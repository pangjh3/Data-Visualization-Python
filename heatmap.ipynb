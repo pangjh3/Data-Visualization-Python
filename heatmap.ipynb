{
 "cells": [
  {
   "cell_type": "code",
   "execution_count": 5,
   "metadata": {},
   "outputs": [
    {
     "name": "stdout",
     "output_type": "stream",
     "text": [
      "[[0.01305763 0.52217629 0.41420238 0.71146527 0.24304849 0.61135621\n",
      "  0.45348997 0.6838146  0.18328945 0.95514955]\n",
      " [0.40305477 0.87023786 0.44958836 0.37915179 0.46797175 0.75625253\n",
      "  0.58110559 0.99615493 0.84315881 0.33057544]\n",
      " [0.92351608 0.24935936 0.91001042 0.73851282 0.72764598 0.2244323\n",
      "  0.59743495 0.35377153 0.63694783 0.47946273]\n",
      " [0.14754587 0.13638194 0.30294992 0.04295858 0.04730823 0.26237906\n",
      "  0.3483199  0.20006893 0.33359458 0.81660519]\n",
      " [0.72496393 0.7091401  0.70859211 0.46238386 0.37840887 0.28735738\n",
      "  0.20486202 0.25499301 0.61986285 0.6379303 ]\n",
      " [0.62971909 0.43916554 0.09871494 0.81888506 0.10927868 0.07060714\n",
      "  0.20040717 0.17943425 0.53521655 0.10058586]\n",
      " [0.53209301 0.50182849 0.61697039 0.5778995  0.17202038 0.57685625\n",
      "  0.1262691  0.34922611 0.89507005 0.1338524 ]\n",
      " [0.3023101  0.81003056 0.51934119 0.86203747 0.79097906 0.51477868\n",
      "  0.01394823 0.51528441 0.69991214 0.82578741]\n",
      " [0.9501915  0.78022124 0.94603905 0.24014324 0.89100022 0.54716926\n",
      "  0.32999701 0.78428072 0.71161625 0.03854105]\n",
      " [0.01804429 0.45922315 0.07945015 0.3490171  0.7564927  0.100025\n",
      "  0.47516855 0.37490874 0.1106656  0.88168879]]\n"
     ]
    }
   ],
   "source": [
    "# library\n",
    "import seaborn as sns\n",
    "import pandas as pd\n",
    "import numpy as np\n",
    " \n",
    "# Create a dataset (fake)\n",
    "# data is a randome 2-dim array defined by numpy, you can load your own data as a 2-dimension array to repalce “data”\n",
    "# such as np.array([[1,2],[3,4]])\n",
    "data = np.random.random((10,10))\n",
    "print(data)\n",
    "df = pd.DataFrame(data, columns=[\"a\",\"b\",\"c\",\"d\",\"e\",\"f\",\"g\",\"h\",\"i\",\"j\"])\n"
   ]
  },
  {
   "cell_type": "code",
   "execution_count": 4,
   "metadata": {},
   "outputs": [
    {
     "data": {
      "text/plain": [
       "<matplotlib.axes._subplots.AxesSubplot at 0x27276762d60>"
      ]
     },
     "execution_count": 4,
     "metadata": {},
     "output_type": "execute_result"
    },
    {
     "data": {
      "image/png": "[encoded data removed]",
      "text/plain": [
       "<Figure size 432x288 with 2 Axes>"
      ]
     },
     "metadata": {
      "needs_background": "light"
     },
     "output_type": "display_data"
    }
   ],
   "source": [
    "# plot using a color palette\n",
    "\n",
    "sns.heatmap(df, cmap=\"Greens\")\n",
    " \n"
   ]
  },
  {
   "cell_type": "code",
   "execution_count": null,
   "metadata": {},
   "outputs": [],
   "source": []
  }
 ],
 "metadata": {
  "kernelspec": {
   "display_name": "Python 3",
   "language": "python",
   "name": "python3"
  },
  "language_info": {
   "codemirror_mode": {
    "name": "ipython",
    "version": 3
   },
   "file_extension": ".py",
   "mimetype": "text/x-python",
   "name": "python",
   "nbconvert_exporter": "python",
   "pygments_lexer": "ipython3",
   "version": "3.8.3"
  }
 },
 "nbformat": 4,
 "nbformat_minor": 4
}
